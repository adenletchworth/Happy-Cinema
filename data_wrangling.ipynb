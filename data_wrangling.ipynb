{
 "cells": [
  {
   "cell_type": "code",
   "execution_count": 5,
   "metadata": {},
   "outputs": [],
   "source": [
    "import pandas as pd\n",
    "import numpy as np\n",
    "import matplotlib.pyplot as plt\n",
    "import seaborn"
   ]
  },
  {
   "cell_type": "code",
   "execution_count": 15,
   "metadata": {},
   "outputs": [
    {
     "name": "stdout",
     "output_type": "stream",
     "text": [
      "20\n",
      "105\n",
      "105\n",
      "125\n"
     ]
    }
   ],
   "source": [
    "data_coming_soon = pd.read_csv('movies_coming_soon.csv')\n",
    "data_in_home = pd.read_csv('movies_in_home.csv')\n",
    "data_in_theatre = pd.read_csv('movies_in_theatre.csv')\n",
    "\n",
    "print(len(data_coming_soon))\n",
    "print(len(data_in_home))\n",
    "print(len(data_in_theatre))\n",
    "\n",
    "data_joined = pd.merge(data_coming_soon, data_in_home,how='outer')\n",
    "data_full = pd.merge(data_joined,data_in_theatre,how='outer')\n",
    "print(len(data_full))\n",
    "data_joined.to_csv('movies_combined')"
   ]
  }
 ],
 "metadata": {
  "kernelspec": {
   "display_name": "Python 3",
   "language": "python",
   "name": "python3"
  },
  "language_info": {
   "codemirror_mode": {
    "name": "ipython",
    "version": 3
   },
   "file_extension": ".py",
   "mimetype": "text/x-python",
   "name": "python",
   "nbconvert_exporter": "python",
   "pygments_lexer": "ipython3",
   "version": "3.11.3"
  },
  "orig_nbformat": 4
 },
 "nbformat": 4,
 "nbformat_minor": 2
}
